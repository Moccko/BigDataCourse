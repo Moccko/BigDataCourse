{
 "cells": [
  {
   "cell_type": "code",
   "execution_count": 8,
   "metadata": {},
   "outputs": [
    {
     "name": "stdout",
     "output_type": "stream",
     "text": [
      "The nb_black extension is already loaded. To reload it, use:\n",
      "  %reload_ext nb_black\n"
     ]
    },
    {
     "data": {
      "application/javascript": [
       "\n",
       "            setTimeout(function() {\n",
       "                var nbb_cell_id = 8;\n",
       "                var nbb_unformatted_code = \"%load_ext nb_black\\n\\nfrom pyspark import *\\nfrom pyspark.mllib.stat import Statistics\\n\\nfrom math import *\\nimport json\\n\\nimport requests as http\\nfrom tqdm.notebook import tqdm\";\n",
       "                var nbb_formatted_code = \"%load_ext nb_black\\n\\nfrom pyspark import *\\nfrom pyspark.mllib.stat import Statistics\\n\\nfrom math import *\\nimport json\\n\\nimport requests as http\\nfrom tqdm.notebook import tqdm\";\n",
       "                var nbb_cells = Jupyter.notebook.get_cells();\n",
       "                for (var i = 0; i < nbb_cells.length; ++i) {\n",
       "                    if (nbb_cells[i].input_prompt_number == nbb_cell_id) {\n",
       "                        if (nbb_cells[i].get_text() == nbb_unformatted_code) {\n",
       "                             nbb_cells[i].set_text(nbb_formatted_code);\n",
       "                        }\n",
       "                        break;\n",
       "                    }\n",
       "                }\n",
       "            }, 500);\n",
       "            "
      ],
      "text/plain": [
       "<IPython.core.display.Javascript object>"
      ]
     },
     "metadata": {},
     "output_type": "display_data"
    }
   ],
   "source": [
    "%load_ext nb_black\n",
    "\n",
    "from pyspark import *\n",
    "from pyspark.mllib.stat import Statistics\n",
    "\n",
    "from math import *\n",
    "import json\n",
    "\n",
    "import requests as http\n",
    "from tqdm.notebook import tqdm"
   ]
  },
  {
   "cell_type": "code",
   "execution_count": 2,
   "metadata": {},
   "outputs": [
    {
     "data": {
      "application/javascript": [
       "\n",
       "            setTimeout(function() {\n",
       "                var nbb_cell_id = 2;\n",
       "                var nbb_unformatted_code = \"sc = SparkContext()\";\n",
       "                var nbb_formatted_code = \"sc = SparkContext()\";\n",
       "                var nbb_cells = Jupyter.notebook.get_cells();\n",
       "                for (var i = 0; i < nbb_cells.length; ++i) {\n",
       "                    if (nbb_cells[i].input_prompt_number == nbb_cell_id) {\n",
       "                        if (nbb_cells[i].get_text() == nbb_unformatted_code) {\n",
       "                             nbb_cells[i].set_text(nbb_formatted_code);\n",
       "                        }\n",
       "                        break;\n",
       "                    }\n",
       "                }\n",
       "            }, 500);\n",
       "            "
      ],
      "text/plain": [
       "<IPython.core.display.Javascript object>"
      ]
     },
     "metadata": {},
     "output_type": "display_data"
    }
   ],
   "source": [
    "sc = SparkContext()"
   ]
  },
  {
   "cell_type": "code",
   "execution_count": null,
   "metadata": {},
   "outputs": [],
   "source": [
    "rddStr = sc.textFile(\"data/worldcitiespop.txt\").cache()"
   ]
  },
  {
   "cell_type": "markdown",
   "metadata": {},
   "source": [
    "Cleaning populations and applying proper types"
   ]
  },
  {
   "cell_type": "code",
   "execution_count": null,
   "metadata": {},
   "outputs": [],
   "source": [
    "rddStr = rddStr.map(lambda x: x.split(\",\"))\n",
    "header = rddStr.first()\n",
    "rddStr = rddStr.filter(lambda x: x[4] != \"\" and x != header)\n",
    "rddStr = rddStr.map(\n",
    "    lambda x: [x[0], x[1], x[2], x[3], int(x[4]), float(x[5]), float(x[6])]\n",
    ")"
   ]
  },
  {
   "cell_type": "markdown",
   "metadata": {},
   "source": [
    "Making populations as dict for ElasticSearch serialization"
   ]
  },
  {
   "cell_type": "code",
   "execution_count": null,
   "metadata": {},
   "outputs": [],
   "source": [
    "def mk_pop_dict(t):\n",
    "    return {\n",
    "        \"_doc\": dict(\n",
    "            (\n",
    "                zip(\n",
    "                    [\"city\", \"country\", \"localisation\", \"dept\", \"pop\"],\n",
    "                    [t[1], t[0], {\"lat\": t[5], \"lon\": t[6]}, t[3], t[4]],\n",
    "                )\n",
    "            )\n",
    "        )\n",
    "    }\n",
    "\n",
    "\n",
    "clean_cities = rddStr.map(mk_pop_dict).collect()"
   ]
  },
  {
   "cell_type": "markdown",
   "metadata": {},
   "source": [
    "Writing in the ndjson file"
   ]
  },
  {
   "cell_type": "code",
   "execution_count": null,
   "metadata": {},
   "outputs": [],
   "source": [
    "with open(\"data/clean_cities.json\", \"w\") as fw:\n",
    "    for city in clean_cities:\n",
    "        fw.write('{\"index\": {\"_index\": \"worldcitiespop\"}}\\n')\n",
    "        fw.write(json.dumps(city) + \"\\n\")"
   ]
  },
  {
   "cell_type": "code",
   "execution_count": null,
   "metadata": {},
   "outputs": [],
   "source": [
    "# Display stats\n",
    "summary = Statistics.colStats(rddStr)\n",
    "summary.stddev()"
   ]
  },
  {
   "cell_type": "code",
   "execution_count": 3,
   "metadata": {
    "scrolled": false
   },
   "outputs": [
    {
     "data": {
      "application/javascript": [
       "\n",
       "            setTimeout(function() {\n",
       "                var nbb_cell_id = 3;\n",
       "                var nbb_unformatted_code = \"adultRdd = sc.textFile(\\\"data/adult.data\\\").cache()\";\n",
       "                var nbb_formatted_code = \"adultRdd = sc.textFile(\\\"data/adult.data\\\").cache()\";\n",
       "                var nbb_cells = Jupyter.notebook.get_cells();\n",
       "                for (var i = 0; i < nbb_cells.length; ++i) {\n",
       "                    if (nbb_cells[i].input_prompt_number == nbb_cell_id) {\n",
       "                        if (nbb_cells[i].get_text() == nbb_unformatted_code) {\n",
       "                             nbb_cells[i].set_text(nbb_formatted_code);\n",
       "                        }\n",
       "                        break;\n",
       "                    }\n",
       "                }\n",
       "            }, 500);\n",
       "            "
      ],
      "text/plain": [
       "<IPython.core.display.Javascript object>"
      ]
     },
     "metadata": {},
     "output_type": "display_data"
    }
   ],
   "source": [
    "adultRdd = sc.textFile(\"data/adult.data\").cache()"
   ]
  },
  {
   "cell_type": "code",
   "execution_count": 4,
   "metadata": {},
   "outputs": [
    {
     "data": {
      "application/javascript": [
       "\n",
       "            setTimeout(function() {\n",
       "                var nbb_cell_id = 4;\n",
       "                var nbb_unformatted_code = \"adultRdd = adultRdd.map(lambda x: x.split(\\\", \\\"))\\n\\n\\ndef convert_columns(x):\\n    ints = [0, 2, 4, 10, 11, 12]\\n    for i in ints:\\n        try:\\n            x[i] = int(x[i])\\n        except:\\n            print(x)\\n    return x\\n\\n\\nadultRdd = adultRdd.map(convert_columns)\";\n",
       "                var nbb_formatted_code = \"adultRdd = adultRdd.map(lambda x: x.split(\\\", \\\"))\\n\\n\\ndef convert_columns(x):\\n    ints = [0, 2, 4, 10, 11, 12]\\n    for i in ints:\\n        try:\\n            x[i] = int(x[i])\\n        except:\\n            print(x)\\n    return x\\n\\n\\nadultRdd = adultRdd.map(convert_columns)\";\n",
       "                var nbb_cells = Jupyter.notebook.get_cells();\n",
       "                for (var i = 0; i < nbb_cells.length; ++i) {\n",
       "                    if (nbb_cells[i].input_prompt_number == nbb_cell_id) {\n",
       "                        if (nbb_cells[i].get_text() == nbb_unformatted_code) {\n",
       "                             nbb_cells[i].set_text(nbb_formatted_code);\n",
       "                        }\n",
       "                        break;\n",
       "                    }\n",
       "                }\n",
       "            }, 500);\n",
       "            "
      ],
      "text/plain": [
       "<IPython.core.display.Javascript object>"
      ]
     },
     "metadata": {},
     "output_type": "display_data"
    }
   ],
   "source": [
    "adultRdd = adultRdd.map(lambda x: x.split(\", \"))\n",
    "\n",
    "\n",
    "def convert_columns(x):\n",
    "    ints = [0, 2, 4, 10, 11, 12]\n",
    "    for i in ints:\n",
    "        try:\n",
    "            x[i] = int(x[i])\n",
    "        except:\n",
    "            print(x)\n",
    "    return x\n",
    "\n",
    "\n",
    "adultRdd = adultRdd.map(convert_columns)"
   ]
  },
  {
   "cell_type": "code",
   "execution_count": 6,
   "metadata": {},
   "outputs": [
    {
     "data": {
      "application/javascript": [
       "\n",
       "            setTimeout(function() {\n",
       "                var nbb_cell_id = 6;\n",
       "                var nbb_unformatted_code = \"def persist(adult):\\n    adult = dict(\\n        zip(\\n            [\\n                \\\"age\\\",\\n                \\\"workclass\\\",\\n                \\\"fnlwgt\\\",\\n                \\\"education\\\",\\n                \\\"education-num\\\",\\n                \\\"marital-status\\\",\\n                \\\"occupation\\\",\\n                \\\"relationship\\\",\\n                \\\"race\\\",\\n                \\\"sex\\\",\\n                \\\"capital-gain\\\",\\n                \\\"capital-loss\\\",\\n                \\\"hours-per-week\\\",\\n                \\\"native-country\\\",\\n                \\\"yearly-wage\\\",\\n            ],\\n            adult,\\n        )\\n    )\\n    print(http.post(\\\"http://localhost:9200/adults/_doc\\\", json=adult).status_code)\\n    return adult\\n\\n\\nadults = adultRdd.map(persist).collect()\\n\\nwith open(\\\"data/clean_adults.json\\\", \\\"w\\\") as fw:\\n    for adult in adults:\\n        fw.write('{\\\"index\\\": {\\\"_index\\\": \\\"adults\\\"}}\\\\n')\\n        fw.write(json.dumps(adult) + \\\"\\\\n\\\")\\n        \";\n",
       "                var nbb_formatted_code = \"def persist(adult):\\n    adult = dict(\\n        zip(\\n            [\\n                \\\"age\\\",\\n                \\\"workclass\\\",\\n                \\\"fnlwgt\\\",\\n                \\\"education\\\",\\n                \\\"education-num\\\",\\n                \\\"marital-status\\\",\\n                \\\"occupation\\\",\\n                \\\"relationship\\\",\\n                \\\"race\\\",\\n                \\\"sex\\\",\\n                \\\"capital-gain\\\",\\n                \\\"capital-loss\\\",\\n                \\\"hours-per-week\\\",\\n                \\\"native-country\\\",\\n                \\\"yearly-wage\\\",\\n            ],\\n            adult,\\n        )\\n    )\\n    print(http.post(\\\"http://localhost:9200/adults/_doc\\\", json=adult).status_code)\\n    return adult\\n\\n\\nadults = adultRdd.map(persist).collect()\\n\\nwith open(\\\"data/clean_adults.json\\\", \\\"w\\\") as fw:\\n    for adult in adults:\\n        fw.write('{\\\"index\\\": {\\\"_index\\\": \\\"adults\\\"}}\\\\n')\\n        fw.write(json.dumps(adult) + \\\"\\\\n\\\")\";\n",
       "                var nbb_cells = Jupyter.notebook.get_cells();\n",
       "                for (var i = 0; i < nbb_cells.length; ++i) {\n",
       "                    if (nbb_cells[i].input_prompt_number == nbb_cell_id) {\n",
       "                        if (nbb_cells[i].get_text() == nbb_unformatted_code) {\n",
       "                             nbb_cells[i].set_text(nbb_formatted_code);\n",
       "                        }\n",
       "                        break;\n",
       "                    }\n",
       "                }\n",
       "            }, 500);\n",
       "            "
      ],
      "text/plain": [
       "<IPython.core.display.Javascript object>"
      ]
     },
     "metadata": {},
     "output_type": "display_data"
    }
   ],
   "source": [
    "def persist(adult):\n",
    "    adult = dict(\n",
    "        zip(\n",
    "            [\n",
    "                \"age\",\n",
    "                \"workclass\",\n",
    "                \"fnlwgt\",\n",
    "                \"education\",\n",
    "                \"education-num\",\n",
    "                \"marital-status\",\n",
    "                \"occupation\",\n",
    "                \"relationship\",\n",
    "                \"race\",\n",
    "                \"sex\",\n",
    "                \"capital-gain\",\n",
    "                \"capital-loss\",\n",
    "                \"hours-per-week\",\n",
    "                \"native-country\",\n",
    "                \"yearly-wage\",\n",
    "            ],\n",
    "            adult,\n",
    "        )\n",
    "    )\n",
    "    print(http.post(\"http://localhost:9200/adults/_doc\", json=adult).status_code)\n",
    "    return adult\n",
    "\n",
    "\n",
    "adults = adultRdd.map(persist).collect()"
   ]
  },
  {
   "cell_type": "code",
   "execution_count": 9,
   "metadata": {},
   "outputs": [
    {
     "data": {
      "application/vnd.jupyter.widget-view+json": {
       "model_id": "e7cbbbbdfba54b02a7bfe9360051b963",
       "version_major": 2,
       "version_minor": 0
      },
      "text/plain": [
       "HBox(children=(FloatProgress(value=0.0, max=32562.0), HTML(value='')))"
      ]
     },
     "metadata": {},
     "output_type": "display_data"
    },
    {
     "name": "stdout",
     "output_type": "stream",
     "text": [
      "\n"
     ]
    },
    {
     "data": {
      "application/javascript": [
       "\n",
       "            setTimeout(function() {\n",
       "                var nbb_cell_id = 9;\n",
       "                var nbb_unformatted_code = \"with open(\\\"data/clean_adults.json\\\", \\\"w\\\") as fw:\\n    for adult in tqdm(adults):\\n        fw.write('{\\\"index\\\": {\\\"_index\\\": \\\"adults\\\"}}\\\\n')\\n        fw.write(json.dumps(adult) + \\\"\\\\n\\\")\";\n",
       "                var nbb_formatted_code = \"with open(\\\"data/clean_adults.json\\\", \\\"w\\\") as fw:\\n    for adult in tqdm(adults):\\n        fw.write('{\\\"index\\\": {\\\"_index\\\": \\\"adults\\\"}}\\\\n')\\n        fw.write(json.dumps(adult) + \\\"\\\\n\\\")\";\n",
       "                var nbb_cells = Jupyter.notebook.get_cells();\n",
       "                for (var i = 0; i < nbb_cells.length; ++i) {\n",
       "                    if (nbb_cells[i].input_prompt_number == nbb_cell_id) {\n",
       "                        if (nbb_cells[i].get_text() == nbb_unformatted_code) {\n",
       "                             nbb_cells[i].set_text(nbb_formatted_code);\n",
       "                        }\n",
       "                        break;\n",
       "                    }\n",
       "                }\n",
       "            }, 500);\n",
       "            "
      ],
      "text/plain": [
       "<IPython.core.display.Javascript object>"
      ]
     },
     "metadata": {},
     "output_type": "display_data"
    }
   ],
   "source": [
    "with open(\"data/clean_adults.json\", \"w\") as fw:\n",
    "    for adult in tqdm(adults):\n",
    "        fw.write('{\"index\": {\"_index\": \"adults\"}}\\n')\n",
    "        fw.write(json.dumps(adult) + \"\\n\")"
   ]
  }
 ],
 "metadata": {
  "kernelspec": {
   "display_name": "Python 3",
   "language": "python",
   "name": "python3"
  },
  "language_info": {
   "codemirror_mode": {
    "name": "ipython",
    "version": 3
   },
   "file_extension": ".py",
   "mimetype": "text/x-python",
   "name": "python",
   "nbconvert_exporter": "python",
   "pygments_lexer": "ipython3",
   "version": "3.7.5"
  },
  "pycharm": {
   "stem_cell": {
    "cell_type": "raw",
    "metadata": {
     "collapsed": false
    },
    "source": []
   }
  }
 },
 "nbformat": 4,
 "nbformat_minor": 1
}
